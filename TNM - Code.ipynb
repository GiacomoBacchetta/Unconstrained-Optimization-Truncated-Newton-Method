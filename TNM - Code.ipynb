{
 "cells": [
  {
   "cell_type": "markdown",
   "id": "349095fc",
   "metadata": {},
   "source": [
    "# Unconstrained optimization: the Truncated Newton Method\n",
    "-  **Giacomo Bacchetta**, <bacchetta.1840949@studenti.uniroma1.it>, LinkedIn: <https://www.linkedin.com/in/giacomobacchetta/>\n",
    "-  **Edoardo Cesaroni**, <cesaroni.1841742@studenti.uniroma1.it>, LinkedIn: <https://www.linkedin.com/in/edoardocesaroni/>\n",
    "-  **Fabio Ciccarelli**, <ciccarelli.1835348@studenti.uniroma1.it>, LinkedIn: <https://www.linkedin.com/in/fabio-ciccarelli-601399198/>"
   ]
  },
  {
   "cell_type": "markdown",
   "id": "5655cfb3",
   "metadata": {},
   "source": [
    "## Packages' import"
   ]
  },
  {
   "cell_type": "markdown",
   "id": "a36531d2",
   "metadata": {},
   "source": [
    "Import of built-in python functions to compute gradient.\n",
    "- $\\bf{Autograd.numpy}$, equivalent to the better known numpy package;\n",
    "- $\\bf{Autograd}$, used to calculate the gradient (*grad*) of the functions taken into account;\n",
    "- $\\bf{matplotlib}$, which allows us to represent graphically the data."
   ]
  },
  {
   "cell_type": "code",
   "execution_count": 1,
   "id": "f04b7302",
   "metadata": {},
   "outputs": [],
   "source": [
    "import autograd.numpy as np\n",
    "from autograd import grad\n",
    "import matplotlib.pyplot as plt"
   ]
  },
  {
   "cell_type": "markdown",
   "id": "bd95cab9",
   "metadata": {},
   "source": [
    "## Armijo Condition"
   ]
  },
  {
   "cell_type": "markdown",
   "id": "8f8165ae",
   "metadata": {},
   "source": [
    "The $\\bf{Armijo}$ condition is a line search method used to determine the step $\\alpha$ to move along a given search direction $d$. It can be described as follows:\n",
    "1. Set $ \\alpha > 0,\\delta \\in (0,1), \\gamma \\in (0,\\frac{1}{2})$\n",
    "2. Until the condition $f(x_k + \\alpha \\cdot d) > f(x_k) + \\alpha \\cdot \\gamma \\cdot (\\nabla(f(x_k)) \\times  d)$ is satisfied, then $\\alpha = \\alpha \\cdot \\delta$"
   ]
  },
  {
   "cell_type": "code",
   "execution_count": 2,
   "id": "f64ece13",
   "metadata": {},
   "outputs": [],
   "source": [
    "def armijo(f, x_k, d):\n",
    "    alpha = 1\n",
    "    delta = 0.5\n",
    "    gamma = 1e-3\n",
    "\n",
    "    while True:\n",
    "        if f(x_k + alpha*d) > f(x_k) + alpha * gamma * (grad(f)(x_k) @ d):\n",
    "            alpha = delta * alpha\n",
    "        else:\n",
    "            return alpha"
   ]
  },
  {
   "cell_type": "markdown",
   "id": "1c054ba1",
   "metadata": {},
   "source": [
    "## Other useful functions"
   ]
  },
  {
   "cell_type": "markdown",
   "id": "d93993fb",
   "metadata": {},
   "source": [
    "The $\\bf{mxv}$ function has the goal to return the result of the product between a matrix and a vector. In particular, we applied the incremental ratio formula to carry out this product."
   ]
  },
  {
   "cell_type": "markdown",
   "id": "6969b13b",
   "metadata": {},
   "source": [
    "The $\\bf{gradfi}$ function helps us to define the descent direction. To do this we have to minimize the quadratic function $\\phi$ by setting its gradient to 0."
   ]
  },
  {
   "cell_type": "code",
   "execution_count": 3,
   "id": "a90f2164",
   "metadata": {},
   "outputs": [],
   "source": [
    "def mxv(v, f, x):\n",
    "    eta = 1e-6\n",
    "    x_succ = x + eta*v\n",
    "    return (grad(f)(x_succ) - grad(f)(x))/eta\n",
    "\n",
    "\n",
    "def gradfi(d,f,x):\n",
    "    return mxv(d,f,x) + grad(f)(x)"
   ]
  },
  {
   "cell_type": "markdown",
   "id": "d39e1429",
   "metadata": {},
   "source": [
    "# Truncated Newton Method\n",
    "\n",
    "### Theory overview\n",
    "\n",
    "The Truncated Newton method can be described as follows:\n",
    "- given a certain starting point $x_0 \\in R^n$, then at each iteration $k$ we have:\n",
    "\n",
    "$\\newline$\n",
    "\n",
    "$$\n",
    "x_{k+1}=x_k+\\alpha_k d_k ;\n",
    "$$\n",
    "\n",
    "$\\newline$\n",
    "\n",
    "where\n",
    "- $\\alpha_k$ is computed applying Amrijo criterion with $\\alpha_0=1$ (see above);\n",
    "- we get the direction $d_k$ as described below:\n",
    "\n",
    "**S0**: given $\\varepsilon_1>0, \\ \\varepsilon_2>0$, we set $p_0=0, s_0=-\\nabla \\phi_k\\left(p_0\\right)=-\\nabla f\\left(x_k\\right)$ and $i=0$.\n",
    "\n",
    "$\\newline$\n",
    "\n",
    "If $s_0^T \\nabla^2 f\\left(x_k\\right) s_0<\\varepsilon_1\\left\\|s_0\\right\\|^2$ then $d_k=-\\nabla f\\left(x_k\\right)$. Stop;\n",
    "\n",
    "$\\newline$\n",
    "\n",
    "\n",
    "**S1**: we set\n",
    "\n",
    "$\\newline$\n",
    "\n",
    "$$\n",
    "p_{i+1}=p_i+\\alpha_i s_i ; \\quad \\alpha_i=-\\frac{\\nabla \\phi_k\\left(p_i\\right)^T s_i}{s_i^T \\nabla^2 f\\left(x_k\\right) s_i}\n",
    "$$\n",
    "\n",
    "$\\newline$\n",
    "\n",
    "**S2**: if\n",
    "$$\n",
    "\\left\\|\\nabla \\phi_k\\left(p_{i+1}\\right)\\right\\| \\leq \\frac{1}{k+1} \\varepsilon_2\\left\\|\\nabla f\\left(x_k\\right)\\right\\|\n",
    "$$\n",
    "\n",
    "$\\newline$\n",
    "then $d_k=p_{i+1}$. Stop; Otherwise $i=i+1$;\n",
    "\n",
    "$\\newline$\n",
    "\n",
    "**S3**:\n",
    "$$\n",
    "s_i=-\\nabla \\phi_k\\left(p_i\\right)+\\beta_i s_{i-1}, \\quad \\quad \\beta_i=\\frac{\\nabla \\phi_k\\left(p_i\\right)^T \\nabla^2 f\\left(x_k\\right) s_{i-1}}{s_{i-1}^T \\nabla^2 f\\left(x_k\\right) s_{i-1}}\n",
    "$$\n",
    "\n",
    "$\\newline$\n",
    "\n",
    "**S4**: if\n",
    "\n",
    "$\\newline$\n",
    "\n",
    "$$\n",
    "s_i^T \\nabla^2 f\\left(x_k\\right) s_i<\\varepsilon_1 \\|\\left. s_i\\right\\|^2\n",
    "$$\n",
    "\n",
    "$\\newline$\n",
    "\n",
    "then $d_k=p_i$. Stop; Otherwise go back to $\\mathrm{S} 1$;"
   ]
  },
  {
   "cell_type": "markdown",
   "id": "3aa9b118",
   "metadata": {},
   "source": [
    "## Software implementation"
   ]
  },
  {
   "cell_type": "code",
   "execution_count": 4,
   "id": "50d75193",
   "metadata": {},
   "outputs": [],
   "source": [
    "def dt(f, x, k):\n",
    "\n",
    "    epsilon_1 = 0.5\n",
    "    epsilon_2 = 0.5\n",
    "    p = 0\n",
    "    \n",
    "    s = -grad(f)(x)\n",
    "    \n",
    "    if (s @ mxv(s, f, x)) < (epsilon_1 * (np.linalg.norm(s))**2):\n",
    "        d = -(grad(f)(x))\n",
    "        return d\n",
    "    \n",
    "    while True:\n",
    "        \n",
    "        if (s @ mxv(s, f, x)) <= 1e-9:              \n",
    "            return -grad(f)(x)\n",
    "        \n",
    "        alfa = -((gradfi(p, f, x) @ s) / (s @ mxv(s, f, x)))\n",
    "        p = p + alfa * s\n",
    "\n",
    "        if np.linalg.norm(gradfi(p, f, x)) <= (1/(k+1))*epsilon_2*(np.linalg.norm(grad(f)(x))):\n",
    "            d = p\n",
    "            return d\n",
    "        \n",
    "        else:\n",
    "            beta = (gradfi(p, f, x) @ mxv(s, f, x)) / (s @ mxv(s, f, x))\n",
    "            s = -(gradfi(p, f, x)) + beta * s\n",
    "\n",
    "            if (s @ mxv(s, f, x)) < (epsilon_1 * (np.linalg.norm(s))**2):\n",
    "                d = p\n",
    "                return d"
   ]
  },
  {
   "cell_type": "code",
   "execution_count": 5,
   "id": "befe0033",
   "metadata": {},
   "outputs": [],
   "source": [
    "def nt(f, x, eps = 1e-5):  \n",
    "    \n",
    "    norm_grad = [np.linalg.norm(grad(f)(x))]\n",
    "        \n",
    "    k = 0\n",
    "    \n",
    "    if np.linalg.norm(grad(f)(x)) < eps:\n",
    "        return x\n",
    "    \n",
    "    while True:\n",
    "        \n",
    "        d = dt(f, x, k)\n",
    "        a = armijo(f, x, d)\n",
    "        x = x + a * d\n",
    "        \n",
    "        if norm_grad[-1] > 0.1:\n",
    "            norm_grad.append(np.linalg.norm(grad(f)(x)))\n",
    "        \n",
    "        \n",
    "        if np.linalg.norm(grad(f)(x)) <= eps:\n",
    "            print('Successful convergence to a local optimum \\n x\\u002A:', x.round(3), '\\n f(x\\u002A):', round(f(x), 4))\n",
    "            \n",
    "            plt.plot(range(len(norm_grad)), norm_grad)\n",
    "            plt.title('Speed of convergence', fontweight = 'bold')\n",
    "            plt.xlabel('Iterations')\n",
    "            plt.ylabel('Gradient norm')\n",
    "            \n",
    "            return x\n",
    "        \n",
    "        k = k + 1"
   ]
  },
  {
   "cell_type": "markdown",
   "id": "5a8703a6",
   "metadata": {},
   "source": [
    "## Reliability tests"
   ]
  },
  {
   "cell_type": "markdown",
   "id": "fc4c3075",
   "metadata": {},
   "source": [
    "From now on, we define unconstrained problems to test the NT method. The solutions can be compared with those on the attached pdf file."
   ]
  },
  {
   "cell_type": "markdown",
   "id": "b20296df",
   "metadata": {},
   "source": [
    "### Wood Function\n",
    "\n",
    "$$\n",
    "\\begin{aligned}\n",
    "&f(x)=100\\left(x_1^2-x_2\\right)^2+\\left(x_1-1\\right)^2+\\left(x_3-1\\right)^2+90\\left(x_3^2-x_4\\right)^2 \\\\\n",
    "&\\quad+10.1\\left[\\left(x_2-1\\right)^2+\\left(x_4-1\\right)^2\\right]+19.8\\left(x_2-1\\right)\\left(x_4-1\\right), \\\\\n",
    "& \\\\\n",
    "&x_0=[-3,-1,-3,-1]^T, \\\\\n",
    "&x^*=[0,0,0,0]^T, \\\\\n",
    "&f\\left(x^*\\right)=0 .\n",
    "\\end{aligned}\n",
    "$$\n"
   ]
  },
  {
   "cell_type": "code",
   "execution_count": 6,
   "id": "c9d3f99b",
   "metadata": {
    "scrolled": true
   },
   "outputs": [
    {
     "name": "stdout",
     "output_type": "stream",
     "text": [
      "Successful convergence to a local optimum \n",
      " x*: [1. 1. 1. 1.] \n",
      " f(x*): 0.0\n"
     ]
    },
    {
     "data": {
      "image/png": "[encoded data removed]",
      "text/plain": [
       "<Figure size 432x288 with 1 Axes>"
      ]
     },
     "metadata": {
      "needs_background": "light"
     },
     "output_type": "display_data"
    }
   ],
   "source": [
    "def x0_wood():\n",
    "    x = np.array([-3. ,-1. ,-3. ,-1.])\n",
    "    return x\n",
    "\n",
    "def wood(x):\n",
    "    return 100*(x[0]**2-x[1])**2 + (x[0]-1.)**2 + (x[2]-1.)**2 + 90.*(x[2]**2-x[3])**2 + 10.1*((x[1]-1.)**2 + (x[3]-1.)**2.) + 19.8*(x[1]-1.)*(x[3]-1.)\n",
    "\n",
    "nt(wood, x0_wood());"
   ]
  },
  {
   "cell_type": "markdown",
   "id": "c004834e",
   "metadata": {},
   "source": [
    "### Scaled Rosenbrock Function\n",
    "\n",
    "$$\n",
    "\\begin{aligned}\n",
    "&f(x)=c\\left(x_2-x_1^2\\right)^2+\\left(1-x_1\\right)^2 \\newline\n",
    "&x_0=[-1.2,1]^T \\newline \n",
    "&x^*=[1,1]^T \\newline \n",
    "&f\\left(x^*\\right)=0\n",
    "\\end{aligned}\n",
    "$$"
   ]
  },
  {
   "cell_type": "code",
   "execution_count": 7,
   "id": "f35ab111",
   "metadata": {},
   "outputs": [
    {
     "name": "stdout",
     "output_type": "stream",
     "text": [
      "Successful convergence to a local optimum \n",
      " x*: [1. 1.] \n",
      " f(x*): 0.0\n"
     ]
    },
    {
     "data": {
      "image/png": "[encoded data removed]",
      "text/plain": [
       "<Figure size 432x288 with 1 Axes>"
      ]
     },
     "metadata": {
      "needs_background": "light"
     },
     "output_type": "display_data"
    }
   ],
   "source": [
    "def rosenbrock(x):\n",
    "    return sum((100*(x[i+1]-x[i]**2)**2 + (1-x[i])**2) for i in range(len(x)-1))\n",
    "\n",
    "def x0_rosenbrock(n):\n",
    "    x_0 = np.zeros(n)\n",
    "    for i in range(0, n-1, 2):\n",
    "        x_0[i] = -1.2\n",
    "        x_0[i+1] = 1\n",
    "    return x_0\n",
    "\n",
    "nt(rosenbrock, x0_rosenbrock(2));"
   ]
  },
  {
   "cell_type": "markdown",
   "id": "308403d0",
   "metadata": {},
   "source": [
    "### Cube Function\n",
    "\n",
    "$$\n",
    "\\begin{aligned}\n",
    "&f(x)=c\\left(x_2-x_1^3\\right)^2+\\left(1-x_1\\right)^2 \\\\\n",
    "&x_0=[-1.2,1]^T \\\\\n",
    "&x^*=[1,1]^T \\\\\n",
    "&f\\left(x^*\\right)=0\n",
    "\\end{aligned}\n",
    "$$\n"
   ]
  },
  {
   "cell_type": "code",
   "execution_count": 8,
   "id": "716d2a18",
   "metadata": {},
   "outputs": [
    {
     "name": "stdout",
     "output_type": "stream",
     "text": [
      "Successful convergence to a local optimum \n",
      " x*: [1. 1.] \n",
      " f(x*): 0.0\n"
     ]
    },
    {
     "data": {
      "image/png": "[encoded data removed]",
      "text/plain": [
       "<Figure size 432x288 with 1 Axes>"
      ]
     },
     "metadata": {
      "needs_background": "light"
     },
     "output_type": "display_data"
    }
   ],
   "source": [
    "def x0_cube():\n",
    "    return np.array([-1.2, 1])\n",
    "\n",
    "def cube(x):\n",
    "    c = 10**2\n",
    "    return c*(x[1] - x[0]**3) **2 + (1 - x[0])**2\n",
    "\n",
    "nt(cube, x0_cube());"
   ]
  },
  {
   "cell_type": "markdown",
   "id": "7dac96e3",
   "metadata": {},
   "source": [
    "### Powell Function\n",
    "\n",
    "$$\n",
    "\\begin{aligned}\n",
    "f(x)=& \\sum_{i=1}^{n / 4}\\left[\\left(x_{4 i-3}+10 x_{4 i-2}\\right)^2+5\\left(x_{4 i-1}-x_{4 i}\\right)^2\\right.\\\\\n",
    "&\\left.+\\left(x_{4 i-2}-2 x_{4 i-1}\\right)^4+10\\left(x_{4 i-3}-x_{4 i}\\right)^4\\right] \\\\\n",
    "& \\\\\n",
    "&x_0= {[3,-1,0,1, \\ldots, 3,-1,0,1]^T } \\\\\n",
    "&x^*=[0, \\ldots, 0]^T \\\\\n",
    "&f\\left(x^*\\right)=0\n",
    "\\end{aligned}\n",
    "$$\n",
    "\n"
   ]
  },
  {
   "cell_type": "code",
   "execution_count": 9,
   "id": "1a5598e4",
   "metadata": {},
   "outputs": [
    {
     "name": "stdout",
     "output_type": "stream",
     "text": [
      "Successful convergence to a local optimum \n",
      " x*: [ 0.006  0.011 -0.001  0.006] \n",
      " f(x*): 0.0\n"
     ]
    },
    {
     "data": {
      "image/png": "[encoded data removed]",
      "text/plain": [
       "<Figure size 432x288 with 1 Axes>"
      ]
     },
     "metadata": {
      "needs_background": "light"
     },
     "output_type": "display_data"
    }
   ],
   "source": [
    "def powell(x):\n",
    "    n = len(x)\n",
    "    return sum((x[4*i-3]+10*x[4*i-2])**2+5*(x[4*i-1]-x[4*i])**2 + (x[4*i-2]-2*x[4*i-1])**4 + 10*(x[4*i-3]-x[4*i])**4 for i in range(int(n/4)))\n",
    "\n",
    "def x0_powell(n):\n",
    "    x = np.zeros(n)\n",
    "    for i in range(0, n, 4):\n",
    "        x[i] = 3\n",
    "        x[i+1] = -1\n",
    "        x[i+2] = 0\n",
    "        x[i+3] = 1\n",
    "    return x\n",
    "\n",
    "nt(powell, x0_powell(4));"
   ]
  },
  {
   "cell_type": "markdown",
   "id": "bbbc76d7",
   "metadata": {},
   "source": [
    "### Dixon Function\n",
    "\n",
    "$$\n",
    "\\begin{aligned}\n",
    "&f(x)=\\left(x_1-1\\right)^2+\\sum_{i=2}^n i\\left(2 x_i^2-x_{i-1}\\right)^2 \\\\\n",
    "&x_0=[1, \\ldots, 1]^T \\\\\n",
    "& f\\left(x^*\\right)=0\n",
    "\\end{aligned}\n",
    "$$\n"
   ]
  },
  {
   "cell_type": "code",
   "execution_count": 10,
   "id": "1d16486c",
   "metadata": {},
   "outputs": [
    {
     "name": "stdout",
     "output_type": "stream",
     "text": [
      "Successful convergence to a local optimum \n",
      " x*: [1.    0.707 0.595 0.545] \n",
      " f(x*): 0.0\n"
     ]
    },
    {
     "data": {
      "image/png": "[encoded data removed]",
      "text/plain": [
       "<Figure size 432x288 with 1 Axes>"
      ]
     },
     "metadata": {
      "needs_background": "light"
     },
     "output_type": "display_data"
    }
   ],
   "source": [
    "def dixon(x):\n",
    "    return (x[0]-1)**2 + sum(i*(2*(x[i-1]**2)-x[i-1-1])**2 for i in range(2,len(x)+1))\n",
    "\n",
    "def x0_dixon(n):\n",
    "    return np.ones(n)\n",
    "\n",
    "nt(dixon, x0_dixon(4));"
   ]
  },
  {
   "cell_type": "markdown",
   "id": "d89c63aa",
   "metadata": {},
   "source": [
    "### Box Function\n",
    "\n",
    "$$\n",
    "\\begin{aligned}\n",
    "&f(x)=\\sum_{i=1}^{10}\\left[e^{-t_i x_1}-e^{-t_i x_2}-x_3\\left(e^{-t_i}-e^{-10 t_i}\\right)\\right]^2, \\\\\n",
    "&t_i=0.1 i, \\\\\n",
    "&x_0=[0,10,20]^T, \\\\\n",
    "&f\\left(x^*\\right)=0, \\quad \\text { at }[1,10,1]^T, \\quad[10,1,-1]^T, \\\\\n",
    "&\\text { and wherever } x_1=x_2 \\quad \\text { and } \\quad x_3=0 .\n",
    "\\end{aligned}\n",
    "$$"
   ]
  },
  {
   "cell_type": "code",
   "execution_count": 11,
   "id": "316077c7",
   "metadata": {},
   "outputs": [
    {
     "name": "stdout",
     "output_type": "stream",
     "text": [
      "Successful convergence to a local optimum \n",
      " x*: [ 0.999 10.01   1.001] \n",
      " f(x*): 0.0\n"
     ]
    },
    {
     "data": {
      "image/png": "[encoded data removed]",
      "text/plain": [
       "<Figure size 432x288 with 1 Axes>"
      ]
     },
     "metadata": {
      "needs_background": "light"
     },
     "output_type": "display_data"
    }
   ],
   "source": [
    "def box(x):\n",
    "    return sum((np.exp(-0.1*i*x[0])-np.exp(-0.1*i*x[1])-x[2]*(np.exp(-0.1*i)-np.exp(-i)))**2 for i in range(1, 11))\n",
    "\n",
    "def x0_box():\n",
    "    return np.array([0. ,10. ,20.])\n",
    "\n",
    "nt(box, x0_box());"
   ]
  },
  {
   "cell_type": "markdown",
   "id": "eca71b5c",
   "metadata": {},
   "source": [
    "### Oren Function\n",
    "\n",
    "$$\n",
    "\\begin{aligned}\n",
    "&f(x)=\\left[\\sum_{i=1}^n i x_i^2\\right]^2, \\\\\n",
    "&x_0=[1, \\ldots, 1]^T, \\\\\n",
    "&x^*=[0, \\ldots, 0]^T, \\\\\n",
    "&f\\left(x^*\\right)=0 .\n",
    "\\end{aligned}\n",
    "$$\n"
   ]
  },
  {
   "cell_type": "code",
   "execution_count": 12,
   "id": "12f2863d",
   "metadata": {},
   "outputs": [
    {
     "name": "stdout",
     "output_type": "stream",
     "text": [
      "Successful convergence to a local optimum \n",
      " x*: [1.    0.014 0.    0.   ] \n",
      " f(x*): 0.0\n"
     ]
    },
    {
     "data": {
      "image/png": "[encoded data removed]",
      "text/plain": [
       "<Figure size 432x288 with 1 Axes>"
      ]
     },
     "metadata": {
      "needs_background": "light"
     },
     "output_type": "display_data"
    }
   ],
   "source": [
    "def oren(x):\n",
    "    f = 0\n",
    "    for i in range (0,len(x)):\n",
    "        f += (i*(x[i]**2))\n",
    "    return f**2\n",
    "\n",
    "def x0_oren(n):\n",
    "    x_1 = np.zeros(n)\n",
    "    for i in range (0,n):\n",
    "        x_1[i] = 1\n",
    "    return x_1 \n",
    "\n",
    "nt(oren, x0_oren(4));"
   ]
  },
  {
   "cell_type": "markdown",
   "id": "522f83a1",
   "metadata": {},
   "source": [
    "### Separated Rosenbrock Function\n",
    "\n",
    "$$\n",
    "\\begin{aligned}\n",
    "&f(x)=\\sum_{i=1}^{n / 2}\\left[100\\left(x_{2 i}-x_{2 i-1}^2\\right)^2+\\left(1-x_{2 i-1}\\right)^2\\right] \\\\\n",
    "&x_0=[-1.2,1, \\ldots,-1.2,1]^T, \\\\\n",
    "&x^*=[1, \\ldots, 1]^T \\\\\n",
    "&f\\left(x^*\\right)=0\n",
    "\\end{aligned}\n",
    "$$\n"
   ]
  },
  {
   "cell_type": "code",
   "execution_count": 13,
   "id": "db243404",
   "metadata": {},
   "outputs": [
    {
     "name": "stdout",
     "output_type": "stream",
     "text": [
      "Successful convergence to a local optimum \n",
      " x*: [1. 1. 1. 1.] \n",
      " f(x*): 0.0\n"
     ]
    },
    {
     "data": {
      "image/png": "[encoded data removed]",
      "text/plain": [
       "<Figure size 432x288 with 1 Axes>"
      ]
     },
     "metadata": {
      "needs_background": "light"
     },
     "output_type": "display_data"
    }
   ],
   "source": [
    "def separatedRose(x):\n",
    "    f = 0\n",
    "    c = 10.**1\n",
    "    for j in range(0,len(x),2):\n",
    "        f = f + (1. - x[j])**2 + c*(x[j+1] - x[j]**2)**2\n",
    "    return f\n",
    "\n",
    "def x0_separatedRose(n):\n",
    "    x = np.zeros(n)\n",
    "    for i in range(0,n,2):\n",
    "        x[i] = -1.2\n",
    "        x[i+1] = 1\n",
    "    return x\n",
    "\n",
    "nt(separatedRose, x0_separatedRose(4));"
   ]
  }
 ],
 "metadata": {
  "kernelspec": {
   "display_name": "Python 3",
   "language": "python",
   "name": "python3"
  },
  "language_info": {
   "codemirror_mode": {
    "name": "ipython",
    "version": 3
   },
   "file_extension": ".py",
   "mimetype": "text/x-python",
   "name": "python",
   "nbconvert_exporter": "python",
   "pygments_lexer": "ipython3",
   "version": "3.8.8"
  },
  "varInspector": {
   "cols": {
    "lenName": 16,
    "lenType": 16,
    "lenVar": 40
   },
   "kernels_config": {
    "python": {
     "delete_cmd_postfix": "",
     "delete_cmd_prefix": "del ",
     "library": "var_list.py",
     "varRefreshCmd": "print(var_dic_list())"
    },
    "r": {
     "delete_cmd_postfix": ") ",
     "delete_cmd_prefix": "rm(",
     "library": "var_list.r",
     "varRefreshCmd": "cat(var_dic_list()) "
    }
   },
   "types_to_exclude": [
    "module",
    "function",
    "builtin_function_or_method",
    "instance",
    "_Feature"
   ],
   "window_display": false
  }
 },
 "nbformat": 4,
 "nbformat_minor": 5
}
